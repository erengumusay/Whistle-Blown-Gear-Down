{
 "cells": [
  {
   "cell_type": "code",
   "execution_count": 2,
   "id": "4d972da4-f5fd-4ec3-bef7-a6955635062e",
   "metadata": {},
   "outputs": [
    {
     "name": "stdout",
     "output_type": "stream",
     "text": [
      "   DATE_TIME   LATITUDE  LONGITUDE  AVERAGE_SPEED  NUMBER_OF_VEHICLES  \\\n",
      "0 2024-08-01  41.058655  28.471069             94                  59   \n",
      "1 2024-08-01  41.036682  28.778687             40                  26   \n",
      "2 2024-08-01  41.108093  28.504028             80                  36   \n",
      "3 2024-08-01  41.119080  28.218384             90                  24   \n",
      "4 2024-08-01  41.086121  28.108521             94                   3   \n",
      "\n",
      "   traffic_density  \n",
      "0         0.627660  \n",
      "1         0.650000  \n",
      "2         0.450000  \n",
      "3         0.266667  \n",
      "4         0.031915  \n",
      "(4074145, 6)\n"
     ]
    }
   ],
   "source": [
    "import pandas as pd\n",
    "import geopandas as gpd\n",
    "from shapely.geometry import Point\n",
    "import matplotlib.pyplot as plt\n",
    "import contextily as ctx\n",
    "\n",
    "\n",
    "file_paths = [\n",
    "    \"data/traffic_density_202408.csv\", \n",
    "    \"data/traffic_density_202409.csv\", \n",
    "    \"data/traffic_density_202410.csv\", \n",
    "    \"data/traffic_density_202411.csv\",  \n",
    "    \"data/traffic_density_202412.csv\"   \n",
    "]\n",
    "\n",
    "\n",
    "dataframes = [pd.read_csv(file) for file in file_paths]\n",
    "combined_data = pd.concat(dataframes, ignore_index=True)\n",
    "\n",
    "combined_data['DATE_TIME'] = pd.to_datetime(combined_data['DATE_TIME'])\n",
    "\n",
    "filtered_data = combined_data[\n",
    "    (combined_data['DATE_TIME'].dt.hour >= 14) | (combined_data['DATE_TIME'].dt.hour < 2)\n",
    "]\n",
    "filtered_data = filtered_data.drop(columns=['MINIMUM_SPEED'], errors='ignore')\n",
    "filtered_data = filtered_data.drop(columns=['MAXIMUM_SPEED'], errors='ignore')\n",
    "filtered_data = filtered_data.drop(columns=['GEOHASH'], errors='ignore')\n",
    "filtered_data.loc[:, 'traffic_density'] = filtered_data['NUMBER_OF_VEHICLES'] / filtered_data['AVERAGE_SPEED']\n",
    "\n",
    "print(filtered_data.head())\n",
    "print(filtered_data.shape)\n"
   ]
  },
  {
   "cell_type": "code",
   "execution_count": 3,
   "id": "a051b0a1-bc95-4a12-a735-25f73852941d",
   "metadata": {},
   "outputs": [
    {
     "name": "stdout",
     "output_type": "stream",
     "text": [
      "(99382, 6)\n",
      "     DATE_TIME   LATITUDE  LONGITUDE  AVERAGE_SPEED  NUMBER_OF_VEHICLES  \\\n",
      "743 2024-08-01  41.031189  28.987427             27                  63   \n",
      "768 2024-08-01  41.031189  28.976440             28                  71   \n",
      "796 2024-08-01  41.042175  28.976440             28                  86   \n",
      "798 2024-08-01  41.025696  28.976440             23                  82   \n",
      "802 2024-08-01  41.025696  28.987427             23                  39   \n",
      "\n",
      "     traffic_density  \n",
      "743         2.333333  \n",
      "768         2.535714  \n",
      "796         3.071429  \n",
      "798         3.565217  \n",
      "802         1.695652  \n",
      "Beşiktaş Stadı etrafındaki 10 km köşegenli veri kaydedildi: data/besiktas_stadium_area_2km.csv\n"
     ]
    }
   ],
   "source": [
    "center_lat_bjk = 41.0411  \n",
    "center_lon_bjk = 29.0076 \n",
    "half_side_bjk = 10 / 2 * 0.009 / (2**0.5) \n",
    "\n",
    "lat_min_bjk = center_lat_bjk - half_side_bjk\n",
    "lat_max_bjk = center_lat_bjk + half_side_bjk\n",
    "lon_min_bjk = center_lon_bjk - half_side_bjk\n",
    "lon_max_bjk = center_lon_bjk + half_side_bjk\n",
    "\n",
    "\n",
    "filtered_bjk_data = filtered_data[\n",
    "    (filtered_data['LATITUDE'] >= lat_min_bjk) & (filtered_data['LATITUDE'] <= lat_max_bjk) &\n",
    "    (filtered_data['LONGITUDE'] >= lon_min_bjk) & (filtered_data['LONGITUDE'] <= lon_max_bjk)\n",
    "]\n",
    "\n",
    "\n",
    "print(filtered_bjk_data.shape)\n",
    "print(filtered_bjk_data.head())\n",
    "\n",
    "\n",
    "filtered_bjk_data.to_csv('data/besiktas_stadium_area_10km.csv', index=False)\n",
    "print(\"Beşiktaş Stadı etrafındaki 10 km köşegenli veri kaydedildi: data/besiktas_stadium_area_2km.csv\")\n"
   ]
  },
  {
   "cell_type": "code",
   "execution_count": 4,
   "id": "34be7b55-c1f5-49ab-b6d6-acab6d84c06d",
   "metadata": {
    "scrolled": true
   },
   "outputs": [
    {
     "name": "stdout",
     "output_type": "stream",
     "text": [
      "(90234, 6)\n",
      "      DATE_TIME   LATITUDE  LONGITUDE  AVERAGE_SPEED  NUMBER_OF_VEHICLES  \\\n",
      "1350 2024-08-01  41.135559  29.020386             55                  57   \n",
      "1652 2024-08-01  41.135559  28.965454             48                   7   \n",
      "1840 2024-08-01  41.108093  28.998413             38                  26   \n",
      "1854 2024-08-01  41.091614  29.009399             51                 151   \n",
      "1859 2024-08-01  41.130066  29.020386             54                  55   \n",
      "\n",
      "      traffic_density  \n",
      "1350         1.036364  \n",
      "1652         0.145833  \n",
      "1840         0.684211  \n",
      "1854         2.960784  \n",
      "1859         1.018519  \n",
      "Galatasaray Stadı etrafındaki 10 km köşegenli veri kaydedildi: data/galatasaray_stadium_area_2km.csv\n"
     ]
    }
   ],
   "source": [
    "\n",
    "center_lat_gs = 41.1056 \n",
    "center_lon_gs = 28.9936 \n",
    "half_side_gs = 10 / 2 * 0.009 / (2**0.5)  \n",
    "\n",
    "lat_min_gs = center_lat_gs - half_side_gs\n",
    "lat_max_gs = center_lat_gs + half_side_gs\n",
    "lon_min_gs = center_lon_gs - half_side_gs\n",
    "lon_max_gs = center_lon_gs + half_side_gs\n",
    "\n",
    "filtered_gs_data = filtered_data[\n",
    "    (filtered_data['LATITUDE'] >= lat_min_gs) & (filtered_data['LATITUDE'] <= lat_max_gs) &\n",
    "    (filtered_data['LONGITUDE'] >= lon_min_gs) & (filtered_data['LONGITUDE'] <= lon_max_gs)\n",
    "]\n",
    "\n",
    "print(filtered_gs_data.shape)\n",
    "print(filtered_gs_data.head())\n",
    "\n",
    "filtered_gs_data.to_csv('data/galatasaray_stadium_area_10km.csv', index=False)\n",
    "print(\"Galatasaray Stadı etrafındaki 10 km köşegenli veri kaydedildi: data/galatasaray_stadium_area_2km.csv\")\n"
   ]
  },
  {
   "cell_type": "code",
   "execution_count": 5,
   "id": "f22915d7-d483-476a-8e91-c2d923593fa8",
   "metadata": {},
   "outputs": [
    {
     "name": "stdout",
     "output_type": "stream",
     "text": [
      "Latitude range: 40.960980194846606 to 41.0246198051534\n",
      "Longitude range: 29.005080194846606 to 29.068719805153393\n",
      "(88518, 6)\n",
      "      DATE_TIME   LATITUDE  LONGITUDE  AVERAGE_SPEED  NUMBER_OF_VEHICLES  \\\n",
      "1836 2024-08-01  41.003723  29.042358             59                  99   \n",
      "1837 2024-08-01  40.998230  29.020386             31                  24   \n",
      "1852 2024-08-01  40.976257  29.064331             31                   4   \n",
      "1873 2024-08-01  41.003723  29.064331             56                 189   \n",
      "1878 2024-08-01  40.965271  29.053345             36                  12   \n",
      "\n",
      "      traffic_density  \n",
      "1836         1.677966  \n",
      "1837         0.774194  \n",
      "1852         0.129032  \n",
      "1873         3.375000  \n",
      "1878         0.333333  \n",
      "Fenerbahçe Stadı etrafındaki 10 km köşegenli veri kaydedildi: data/fenerbahce_stadium_area_10km.csv\n"
     ]
    }
   ],
   "source": [
    "\n",
    "center_lat_fb = 40.9928  \n",
    "center_lon_fb = 29.0369  \n",
    "\n",
    "\n",
    "half_side_fb = (10 / (2**0.5)) / 2 * 0.009  \n",
    "\n",
    "lat_min_fb = center_lat_fb - half_side_fb\n",
    "lat_max_fb = center_lat_fb + half_side_fb\n",
    "lon_min_fb = center_lon_fb - half_side_fb\n",
    "lon_max_fb = center_lon_fb + half_side_fb\n",
    "\n",
    "\n",
    "print(f\"Latitude range: {lat_min_fb} to {lat_max_fb}\")\n",
    "print(f\"Longitude range: {lon_min_fb} to {lon_max_fb}\")\n",
    "\n",
    "\n",
    "filtered_fb_data = filtered_data[\n",
    "    (filtered_data['LATITUDE'] >= lat_min_fb) & (filtered_data['LATITUDE'] <= lat_max_fb) &\n",
    "    (filtered_data['LONGITUDE'] >= lon_min_fb) & (filtered_data['LONGITUDE'] <= lon_max_fb)\n",
    "]\n",
    "\n",
    "\n",
    "print(filtered_fb_data.shape)\n",
    "print(filtered_fb_data.head())\n",
    "\n",
    "\n",
    "filtered_fb_data.to_csv('data/fenerbahce_stadium_area_10km.csv', index=False)\n",
    "print(\"Fenerbahçe Stadı etrafındaki 10 km köşegenli veri kaydedildi: data/fenerbahce_stadium_area_10km.csv\")\n"
   ]
  }
 ],
 "metadata": {
  "kernelspec": {
   "display_name": "Python 3 (ipykernel)",
   "language": "python",
   "name": "python3"
  },
  "language_info": {
   "codemirror_mode": {
    "name": "ipython",
    "version": 3
   },
   "file_extension": ".py",
   "mimetype": "text/x-python",
   "name": "python",
   "nbconvert_exporter": "python",
   "pygments_lexer": "ipython3",
   "version": "3.12.4"
  }
 },
 "nbformat": 4,
 "nbformat_minor": 5
}
